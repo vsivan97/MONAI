{
 "cells": [
  {
   "cell_type": "code",
   "execution_count": 1,
   "id": "competitive-moisture",
   "metadata": {},
   "outputs": [],
   "source": [
    "import monai.networks\n",
    "from monai.networks.blocks.evonorm import EvoNormLayer\n",
    "from monai.networks.nets.regunet import RegUNet\n",
    "import torch"
   ]
  },
  {
   "cell_type": "code",
   "execution_count": 6,
   "id": "going-istanbul",
   "metadata": {},
   "outputs": [],
   "source": [
    "evonormlayer = EvoNormLayer(128)\n",
    "test_volume = torch.randn(128,128,128).unsqueeze(0).unsqueeze(1)\n",
    "for i in range(9):\n",
    "    evonormlayer.mutate()\n",
    "    model = RegUNet(3, 1, 1, 2, evonorm=evonormlayer)\n",
    "    model(test_volume)"
   ]
  },
  {
   "cell_type": "code",
   "execution_count": 8,
   "id": "separated-security",
   "metadata": {},
   "outputs": [
    {
     "data": {
      "text/plain": [
       "([0, 12], {12: {0}})"
      ]
     },
     "execution_count": 8,
     "metadata": {},
     "output_type": "execute_result"
    }
   ],
   "source": [
    "evonormlayer.get_forward_nodes_()"
   ]
  },
  {
   "cell_type": "code",
   "execution_count": 5,
   "id": "middle-movie",
   "metadata": {},
   "outputs": [
    {
     "data": {
      "text/plain": [
       "[Identity(),\n",
       " <function monai.networks.blocks.evonorm.EvoNormLayer.__init__.<locals>.<lambda>(x)>,\n",
       " <function monai.networks.blocks.evonorm.EvoNormLayer.__init__.<locals>.<lambda>(x)>,\n",
       " <function monai.networks.blocks.evonorm.EvoNormLayer.__init__.<locals>.<lambda>(x)>,\n",
       " PrimitiveSigmoid(),\n",
       " PrimitiveAbs(),\n",
       " PrimitiveMax(),\n",
       " PrimitiveAbs(),\n",
       " PrimitiveStdBWH(),\n",
       " PrimitiveDiv(),\n",
       " PrimitiveTanh(),\n",
       " PrimitiveMul(),\n",
       " PrimitiveSqrt()]"
      ]
     },
     "execution_count": 5,
     "metadata": {},
     "output_type": "execute_result"
    }
   ],
   "source": [
    "evonormlayer.nodes"
   ]
  },
  {
   "cell_type": "code",
   "execution_count": 12,
   "id": "stupid-family",
   "metadata": {},
   "outputs": [
    {
     "ename": "AttributeError",
     "evalue": "'int' object has no attribute 'size'",
     "output_type": "error",
     "traceback": [
      "\u001b[0;31m---------------------------------------------------------------------------\u001b[0m",
      "\u001b[0;31mAttributeError\u001b[0m                            Traceback (most recent call last)",
      "\u001b[0;32m<ipython-input-12-0cf7ba682abe>\u001b[0m in \u001b[0;36m<module>\u001b[0;34m\u001b[0m\n\u001b[0;32m----> 1\u001b[0;31m \u001b[0mevonormlayer\u001b[0m\u001b[0;34m.\u001b[0m\u001b[0mnodes\u001b[0m\u001b[0;34m[\u001b[0m\u001b[0;36m1\u001b[0m\u001b[0;34m]\u001b[0m\u001b[0;34m(\u001b[0m\u001b[0;36m5\u001b[0m\u001b[0;34m)\u001b[0m\u001b[0;34m.\u001b[0m\u001b[0msize\u001b[0m\u001b[0;34m(\u001b[0m\u001b[0;34m)\u001b[0m\u001b[0;34m\u001b[0m\u001b[0;34m\u001b[0m\u001b[0m\n\u001b[0m",
      "\u001b[0;32m~/Desktop/python_test/MONAI/monai/networks/blocks/evonorm.py\u001b[0m in \u001b[0;36m<lambda>\u001b[0;34m(x)\u001b[0m\n\u001b[1;32m     71\u001b[0m \u001b[0;34m\u001b[0m\u001b[0m\n\u001b[1;32m     72\u001b[0m         self.nodes = [nn.Identity(),\n\u001b[0;32m---> 73\u001b[0;31m                       \u001b[0;32mlambda\u001b[0m \u001b[0mx\u001b[0m\u001b[0;34m:\u001b[0m \u001b[0mchange_v0_if_needed\u001b[0m\u001b[0;34m(\u001b[0m\u001b[0mx\u001b[0m\u001b[0;34m)\u001b[0m\u001b[0;34m,\u001b[0m\u001b[0;34m\u001b[0m\u001b[0;34m\u001b[0m\u001b[0m\n\u001b[0m\u001b[1;32m     74\u001b[0m                       \u001b[0;32mlambda\u001b[0m \u001b[0mx\u001b[0m\u001b[0;34m:\u001b[0m \u001b[0mchange_v1_if_needed\u001b[0m\u001b[0;34m(\u001b[0m\u001b[0mx\u001b[0m\u001b[0;34m)\u001b[0m\u001b[0;34m,\u001b[0m\u001b[0;34m\u001b[0m\u001b[0;34m\u001b[0m\u001b[0m\n\u001b[1;32m     75\u001b[0m                       lambda x: nn.Parameter(torch.zeros_like(x), requires_grad=False)]\n",
      "\u001b[0;32m~/Desktop/python_test/MONAI/monai/networks/blocks/evonorm.py\u001b[0m in \u001b[0;36mchange_v0_if_needed\u001b[0;34m(x)\u001b[0m\n\u001b[1;32m     53\u001b[0m \u001b[0;34m\u001b[0m\u001b[0m\n\u001b[1;32m     54\u001b[0m         \u001b[0;32mdef\u001b[0m \u001b[0mchange_v0_if_needed\u001b[0m\u001b[0;34m(\u001b[0m\u001b[0mx\u001b[0m\u001b[0;34m)\u001b[0m\u001b[0;34m:\u001b[0m\u001b[0;34m\u001b[0m\u001b[0;34m\u001b[0m\u001b[0m\n\u001b[0;32m---> 55\u001b[0;31m             \u001b[0;32mif\u001b[0m \u001b[0mx\u001b[0m\u001b[0;34m.\u001b[0m\u001b[0msize\u001b[0m\u001b[0;34m(\u001b[0m\u001b[0;36m1\u001b[0m\u001b[0;34m)\u001b[0m \u001b[0;34m!=\u001b[0m  \u001b[0mself\u001b[0m\u001b[0;34m.\u001b[0m\u001b[0min_channels\u001b[0m\u001b[0;34m:\u001b[0m\u001b[0;34m\u001b[0m\u001b[0;34m\u001b[0m\u001b[0m\n\u001b[0m\u001b[1;32m     56\u001b[0m                 \u001b[0;32mimport\u001b[0m \u001b[0mpdb\u001b[0m\u001b[0;34m;\u001b[0m \u001b[0mpdb\u001b[0m\u001b[0;34m.\u001b[0m\u001b[0mset_trace\u001b[0m\u001b[0;34m(\u001b[0m\u001b[0;34m)\u001b[0m\u001b[0;34m\u001b[0m\u001b[0;34m\u001b[0m\u001b[0m\n\u001b[1;32m     57\u001b[0m                 \u001b[0mself\u001b[0m\u001b[0;34m.\u001b[0m\u001b[0min_channels\u001b[0m \u001b[0;34m=\u001b[0m \u001b[0mx\u001b[0m\u001b[0;34m.\u001b[0m\u001b[0msize\u001b[0m\u001b[0;34m(\u001b[0m\u001b[0;36m1\u001b[0m\u001b[0;34m)\u001b[0m\u001b[0;34m\u001b[0m\u001b[0;34m\u001b[0m\u001b[0m\n",
      "\u001b[0;31mAttributeError\u001b[0m: 'int' object has no attribute 'size'"
     ]
    }
   ],
   "source": [
    "evonormlayer.nodes[1](5).size()"
   ]
  },
  {
   "cell_type": "code",
   "execution_count": 8,
   "id": "perfect-panic",
   "metadata": {},
   "outputs": [
    {
     "data": {
      "text/plain": [
       "EvoNormLayer(\n",
       "  (PrimitiveNeg()): PrimitiveNeg()\n",
       "  (PrimitiveMeanBWH()): PrimitiveMeanBWH()\n",
       "  (PrimitiveSqrt()): PrimitiveSqrt()\n",
       "  (PrimitiveAdd()): PrimitiveAdd()\n",
       "  (PrimitiveLog()): PrimitiveLog()\n",
       "  (PrimitiveSigmoid()): PrimitiveSigmoid()\n",
       ")"
      ]
     },
     "execution_count": 8,
     "metadata": {},
     "output_type": "execute_result"
    }
   ],
   "source": [
    "evonormlayer"
   ]
  },
  {
   "cell_type": "code",
   "execution_count": 13,
   "id": "residential-shelf",
   "metadata": {},
   "outputs": [
    {
     "name": "stdout",
     "output_type": "stream",
     "text": [
      "RegUNet(\n",
      "  (evonorm): EvoNormLayer(\n",
      "    (PrimitiveNeg()): PrimitiveNeg()\n",
      "    (PrimitiveMeanBWH()): PrimitiveMeanBWH()\n",
      "    (PrimitiveSqrt()): PrimitiveSqrt()\n",
      "    (PrimitiveAdd()): PrimitiveAdd()\n",
      "    (PrimitiveLog()): PrimitiveLog()\n",
      "    (PrimitiveSigmoid()): PrimitiveSigmoid()\n",
      "  )\n",
      "  (encode_convs): ModuleList(\n",
      "    (0): Sequential(\n",
      "      (0): Convolution(\n",
      "        (conv): Conv3d(1, 1, kernel_size=(3, 3, 3), stride=(1, 1, 1), padding=(1, 1, 1), bias=False)\n",
      "        (evonorm): EvoNormLayer()\n",
      "      )\n",
      "      (1): RegistrationResidualConvBlock(\n",
      "        (layers): ModuleList(\n",
      "          (0): Convolution(\n",
      "            (conv): Conv3d(1, 1, kernel_size=(3, 3, 3), stride=(1, 1, 1), padding=(1, 1, 1), bias=False)\n",
      "            (evonorm): EvoNormLayer()\n",
      "          )\n",
      "          (1): Convolution(\n",
      "            (conv): Conv3d(1, 1, kernel_size=(3, 3, 3), stride=(1, 1, 1), padding=(1, 1, 1), bias=False)\n",
      "            (evonorm): EvoNormLayer()\n",
      "          )\n",
      "        )\n",
      "        (evonorms): ModuleList(\n",
      "          (0): EvoNormLayer()\n",
      "          (1): EvoNormLayer()\n",
      "        )\n",
      "        (norms): ModuleList(\n",
      "          (0): BatchNorm3d(1, eps=1e-05, momentum=0.1, affine=True, track_running_stats=True)\n",
      "          (1): BatchNorm3d(1, eps=1e-05, momentum=0.1, affine=True, track_running_stats=True)\n",
      "        )\n",
      "        (acts): ModuleList(\n",
      "          (0): ReLU()\n",
      "          (1): ReLU()\n",
      "        )\n",
      "      )\n",
      "    )\n",
      "    (1): Sequential(\n",
      "      (0): Convolution(\n",
      "        (conv): Conv3d(1, 2, kernel_size=(3, 3, 3), stride=(1, 1, 1), padding=(1, 1, 1), bias=False)\n",
      "        (evonorm): EvoNormLayer()\n",
      "      )\n",
      "      (1): RegistrationResidualConvBlock(\n",
      "        (layers): ModuleList(\n",
      "          (0): Convolution(\n",
      "            (conv): Conv3d(2, 2, kernel_size=(3, 3, 3), stride=(1, 1, 1), padding=(1, 1, 1), bias=False)\n",
      "            (evonorm): EvoNormLayer()\n",
      "          )\n",
      "          (1): Convolution(\n",
      "            (conv): Conv3d(2, 2, kernel_size=(3, 3, 3), stride=(1, 1, 1), padding=(1, 1, 1), bias=False)\n",
      "            (evonorm): EvoNormLayer()\n",
      "          )\n",
      "        )\n",
      "        (evonorms): ModuleList(\n",
      "          (0): EvoNormLayer()\n",
      "          (1): EvoNormLayer()\n",
      "        )\n",
      "        (norms): ModuleList(\n",
      "          (0): BatchNorm3d(2, eps=1e-05, momentum=0.1, affine=True, track_running_stats=True)\n",
      "          (1): BatchNorm3d(2, eps=1e-05, momentum=0.1, affine=True, track_running_stats=True)\n",
      "        )\n",
      "        (acts): ModuleList(\n",
      "          (0): ReLU()\n",
      "          (1): ReLU()\n",
      "        )\n",
      "      )\n",
      "    )\n",
      "  )\n",
      "  (encode_pools): ModuleList(\n",
      "    (0): RegistrationDownSampleBlock(\n",
      "      (layer): MaxPool3d(kernel_size=2, stride=2, padding=0, dilation=1, ceil_mode=False)\n",
      "    )\n",
      "    (1): RegistrationDownSampleBlock(\n",
      "      (layer): MaxPool3d(kernel_size=2, stride=2, padding=0, dilation=1, ceil_mode=False)\n",
      "    )\n",
      "  )\n",
      "  (bottom_block): Sequential(\n",
      "    (0): Convolution(\n",
      "      (conv): Conv3d(2, 4, kernel_size=(3, 3, 3), stride=(1, 1, 1), padding=(1, 1, 1), bias=False)\n",
      "      (evonorm): EvoNormLayer()\n",
      "    )\n",
      "    (1): RegistrationResidualConvBlock(\n",
      "      (layers): ModuleList(\n",
      "        (0): Convolution(\n",
      "          (conv): Conv3d(4, 4, kernel_size=(3, 3, 3), stride=(1, 1, 1), padding=(1, 1, 1), bias=False)\n",
      "          (evonorm): EvoNormLayer()\n",
      "        )\n",
      "        (1): Convolution(\n",
      "          (conv): Conv3d(4, 4, kernel_size=(3, 3, 3), stride=(1, 1, 1), padding=(1, 1, 1), bias=False)\n",
      "          (evonorm): EvoNormLayer()\n",
      "        )\n",
      "      )\n",
      "      (evonorms): ModuleList(\n",
      "        (0): EvoNormLayer()\n",
      "        (1): EvoNormLayer()\n",
      "      )\n",
      "      (norms): ModuleList(\n",
      "        (0): BatchNorm3d(4, eps=1e-05, momentum=0.1, affine=True, track_running_stats=True)\n",
      "        (1): BatchNorm3d(4, eps=1e-05, momentum=0.1, affine=True, track_running_stats=True)\n",
      "      )\n",
      "      (acts): ModuleList(\n",
      "        (0): ReLU()\n",
      "        (1): ReLU()\n",
      "      )\n",
      "    )\n",
      "  )\n",
      "  (decode_deconvs): ModuleList()\n",
      "  (decode_convs): ModuleList()\n",
      "  (output_block): RegistrationExtractionBlock(\n",
      "    (layers): ModuleList(\n",
      "      (0): Convolution(\n",
      "        (conv): Conv3d(4, 3, kernel_size=(3, 3, 3), stride=(1, 1, 1), padding=(1, 1, 1), bias=False)\n",
      "        (adn): ADN()\n",
      "      )\n",
      "    )\n",
      "  )\n",
      ")\n"
     ]
    }
   ],
   "source": [
    "print(model)"
   ]
  },
  {
   "cell_type": "code",
   "execution_count": 4,
   "id": "heavy-producer",
   "metadata": {},
   "outputs": [],
   "source": [
    "el = EvoNormLayer(128)"
   ]
  },
  {
   "cell_type": "code",
   "execution_count": 6,
   "id": "reported-shirt",
   "metadata": {},
   "outputs": [
    {
     "data": {
      "text/plain": [
       "tensor([[[[[ 1.2529e-01, -1.6546e+00,  5.4303e-02,  ..., -4.3137e-01,\n",
       "             9.8555e-01, -5.3394e-01],\n",
       "           [ 6.6639e-01, -2.1235e+00,  5.9453e-01,  ...,  6.7293e-01,\n",
       "             1.0086e+00, -8.3401e-01],\n",
       "           [ 3.4240e-01, -1.0591e+00, -6.1706e-01,  ..., -1.0629e+00,\n",
       "             1.6164e+00, -4.1608e-01],\n",
       "           ...,\n",
       "           [-1.3130e+00, -3.5658e-01, -1.4675e-01,  ...,  1.2913e+00,\n",
       "            -9.5821e-02,  1.1055e+00],\n",
       "           [-6.8184e-01, -9.0889e-01, -4.3754e-02,  ...,  1.6880e-02,\n",
       "             3.3785e-03, -1.7902e+00],\n",
       "           [ 1.1732e+00,  1.0925e-01,  1.1279e+00,  ..., -1.5143e-01,\n",
       "             6.5153e-01,  7.3620e-01]],\n",
       "\n",
       "          [[ 1.6334e-01, -1.0762e+00,  1.1848e+00,  ...,  4.5535e-01,\n",
       "            -8.2312e-01, -3.7064e-01],\n",
       "           [-6.7171e-02, -1.1435e+00, -2.3263e-01,  ..., -2.4830e-01,\n",
       "            -2.6283e-01, -7.0459e-01],\n",
       "           [ 4.7469e-01, -2.3726e-01,  1.0172e+00,  ..., -1.1429e+00,\n",
       "             5.8606e-01, -4.5322e-02],\n",
       "           ...,\n",
       "           [-7.2242e-02, -9.7182e-01,  1.1646e+00,  ...,  1.0923e+00,\n",
       "            -6.4761e-01,  2.5131e-01],\n",
       "           [ 6.1563e-02, -3.3462e-01, -1.0988e-01,  ...,  6.9409e-01,\n",
       "             5.0323e-01, -1.9859e+00],\n",
       "           [-9.6926e-02,  5.5545e-02,  5.1870e-01,  ...,  5.0836e-01,\n",
       "            -1.1191e+00, -4.1447e-01]],\n",
       "\n",
       "          [[ 2.3533e-01,  5.9771e-01,  1.5073e+00,  ...,  2.8743e-01,\n",
       "             1.3740e+00, -1.0257e-01],\n",
       "           [-6.2440e-02,  3.0176e-02,  2.1238e-03,  ..., -1.4172e+00,\n",
       "            -1.8868e-01, -2.5117e-01],\n",
       "           [ 1.0311e-01,  4.3454e-01, -1.0079e+00,  ...,  6.9210e-01,\n",
       "            -9.8886e-01,  4.5979e-01],\n",
       "           ...,\n",
       "           [-3.1096e-01,  1.3113e+00,  1.6279e-01,  ..., -5.4892e-01,\n",
       "             5.5159e-02,  1.1798e+00],\n",
       "           [ 5.5654e-01,  5.0519e-01,  3.7772e-01,  ..., -7.6574e-01,\n",
       "            -3.7942e-01,  2.4827e+00],\n",
       "           [ 7.7120e-01,  4.3163e-01, -2.2657e-01,  ...,  1.1164e-02,\n",
       "             1.5811e+00,  6.0182e-01]],\n",
       "\n",
       "          ...,\n",
       "\n",
       "          [[-3.1691e-01,  9.1250e-01, -2.6350e-01,  ..., -8.3941e-01,\n",
       "             1.6704e-01,  1.0004e+00],\n",
       "           [-9.7305e-01,  8.8614e-01, -5.9999e-01,  ...,  1.8011e+00,\n",
       "             1.0936e+00, -4.9114e-01],\n",
       "           [ 8.2255e-01, -7.1502e-01,  9.3118e-01,  ...,  1.2438e-01,\n",
       "             7.7757e-01, -5.5482e-02],\n",
       "           ...,\n",
       "           [-4.6597e-01, -4.3997e-01,  2.1007e-01,  ..., -9.8540e-01,\n",
       "             2.5104e-02,  4.1167e-01],\n",
       "           [-3.8433e-01,  5.1262e-01,  4.6345e-01,  ..., -2.3735e-01,\n",
       "            -4.1389e-01,  3.3713e-01],\n",
       "           [ 1.3021e+00, -1.3356e+00, -6.5871e-01,  ..., -7.5450e-01,\n",
       "            -1.0953e+00, -1.3010e+00]],\n",
       "\n",
       "          [[-4.3323e-01,  1.4784e-01,  2.6040e-01,  ..., -5.2387e-02,\n",
       "            -1.7333e+00,  7.8217e-01],\n",
       "           [-1.7573e+00, -6.8091e-01, -2.3125e-01,  ..., -1.8182e+00,\n",
       "            -8.6368e-01, -1.3324e+00],\n",
       "           [-5.9360e-02,  1.7092e+00,  1.7601e+00,  ...,  1.5019e+00,\n",
       "            -9.2530e-01,  2.9555e-01],\n",
       "           ...,\n",
       "           [ 4.1590e-02, -8.4120e-01, -2.6454e-01,  ...,  3.0232e-01,\n",
       "            -1.1209e+00,  3.9770e-02],\n",
       "           [-1.2470e-02,  6.3625e-01,  9.0339e-01,  ..., -1.0483e-01,\n",
       "             9.0676e-01,  3.6387e-01],\n",
       "           [-6.9559e-01,  2.7598e-01, -2.1523e+00,  ...,  1.1252e+00,\n",
       "             1.3217e+00, -3.9477e-01]],\n",
       "\n",
       "          [[-9.0506e-01, -1.2276e-01,  3.7888e+00,  ...,  9.2906e-01,\n",
       "            -8.8490e-01,  7.0464e-01],\n",
       "           [-5.0726e-01, -8.0704e-01, -7.5410e-01,  ...,  1.4819e-01,\n",
       "             1.6974e+00, -6.6206e-01],\n",
       "           [ 1.2972e+00, -1.3443e+00,  9.0740e-01,  ..., -8.8343e-01,\n",
       "            -1.3741e+00,  1.7745e+00],\n",
       "           ...,\n",
       "           [-1.6688e-01, -9.9610e-02,  2.5060e+00,  ..., -6.0630e-01,\n",
       "             7.7744e-01,  3.9645e-01],\n",
       "           [ 9.9240e-01, -2.9849e-01,  1.6013e+00,  ...,  1.1256e-01,\n",
       "            -2.4261e+00,  3.9306e-01],\n",
       "           [ 2.7497e+00,  1.3131e+00, -1.9115e+00,  ...,  7.3093e-01,\n",
       "            -2.8331e-01, -8.0158e-01]]]]])"
      ]
     },
     "execution_count": 6,
     "metadata": {},
     "output_type": "execute_result"
    }
   ],
   "source": [
    "el(test_volume)"
   ]
  },
  {
   "cell_type": "code",
   "execution_count": null,
   "id": "proud-stereo",
   "metadata": {},
   "outputs": [],
   "source": []
  }
 ],
 "metadata": {
  "kernelspec": {
   "display_name": "Python 3",
   "language": "python",
   "name": "python3"
  },
  "language_info": {
   "codemirror_mode": {
    "name": "ipython",
    "version": 3
   },
   "file_extension": ".py",
   "mimetype": "text/x-python",
   "name": "python",
   "nbconvert_exporter": "python",
   "pygments_lexer": "ipython3",
   "version": "3.8.3"
  }
 },
 "nbformat": 4,
 "nbformat_minor": 5
}
